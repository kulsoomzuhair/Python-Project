{
 "cells": [
  {
   "cell_type": "markdown",
   "id": "965767bd-01f0-4b69-976d-f3e78d40a3b1",
   "metadata": {},
   "source": [
    "# Data Processing Before Mapping and Graph \n",
    "> **Steps of preprocessing of data**\n",
    "*  Import necessary library\n",
    "*  Read Dataset\n",
    "*  Sanity check of data\n",
    "*  Exploratory Data Analysis(EDA)\n",
    "*  Missing Value treatments\n",
    "*  Outliers treatments\n",
    "*  duplicates & garbage value treatments\n",
    "*  Normalization\n",
    "*  Encoding of data\n"
   ]
  },
  {
   "cell_type": "code",
   "execution_count": 4,
   "id": "07c26a2f-5a26-4378-a3fa-b5a86743f0d1",
   "metadata": {},
   "outputs": [],
   "source": [
    "import pandas as pd\n",
    "import numpy as np"
   ]
  },
  {
   "cell_type": "code",
   "execution_count": 5,
   "id": "4326452a-ecb6-4565-ae95-506fe68ce044",
   "metadata": {},
   "outputs": [
    {
     "data": {
      "text/html": [
       "<div>\n",
       "<style scoped>\n",
       "    .dataframe tbody tr th:only-of-type {\n",
       "        vertical-align: middle;\n",
       "    }\n",
       "\n",
       "    .dataframe tbody tr th {\n",
       "        vertical-align: top;\n",
       "    }\n",
       "\n",
       "    .dataframe thead th {\n",
       "        text-align: right;\n",
       "    }\n",
       "</style>\n",
       "<table border=\"1\" class=\"dataframe\">\n",
       "  <thead>\n",
       "    <tr style=\"text-align: right;\">\n",
       "      <th></th>\n",
       "      <th>CustomerID</th>\n",
       "      <th>First_Name</th>\n",
       "      <th>Last_Name</th>\n",
       "      <th>Phone_Number</th>\n",
       "      <th>Address</th>\n",
       "      <th>Paying Customer</th>\n",
       "      <th>Do_Not_Contact</th>\n",
       "      <th>Not_Useful_Column</th>\n",
       "    </tr>\n",
       "  </thead>\n",
       "  <tbody>\n",
       "    <tr>\n",
       "      <th>0</th>\n",
       "      <td>1001</td>\n",
       "      <td>Frodo</td>\n",
       "      <td>Baggins</td>\n",
       "      <td>123-545-5421</td>\n",
       "      <td>123 Shire Lane, Shire</td>\n",
       "      <td>Yes</td>\n",
       "      <td>No</td>\n",
       "      <td>True</td>\n",
       "    </tr>\n",
       "  </tbody>\n",
       "</table>\n",
       "</div>"
      ],
      "text/plain": [
       "   CustomerID First_Name Last_Name  Phone_Number                Address  \\\n",
       "0        1001      Frodo   Baggins  123-545-5421  123 Shire Lane, Shire   \n",
       "\n",
       "  Paying Customer Do_Not_Contact  Not_Useful_Column  \n",
       "0             Yes             No               True  "
      ]
     },
     "execution_count": 5,
     "metadata": {},
     "output_type": "execute_result"
    }
   ],
   "source": [
    "dataset= pd.read_excel(r\"C:\\Users\\kulso\\Documents\\Dashboards-Projects\\pythonProjects\\Customer Call List.xlsx\")\n",
    "dataset.head(1)"
   ]
  },
  {
   "cell_type": "markdown",
   "id": "e812c634-430c-455e-97a5-f997057b65dd",
   "metadata": {},
   "source": [
    "Note: As we can in the above table there are lots of missing value, duplicate values, also use of special characters in Phone_Numbers and Last_Names column in multiple rows "
   ]
  },
  {
   "cell_type": "code",
   "execution_count": 6,
   "id": "23689bb3-8b5f-4e02-8133-c191b2167584",
   "metadata": {},
   "outputs": [
    {
     "data": {
      "text/html": [
       "<div>\n",
       "<style scoped>\n",
       "    .dataframe tbody tr th:only-of-type {\n",
       "        vertical-align: middle;\n",
       "    }\n",
       "\n",
       "    .dataframe tbody tr th {\n",
       "        vertical-align: top;\n",
       "    }\n",
       "\n",
       "    .dataframe thead th {\n",
       "        text-align: right;\n",
       "    }\n",
       "</style>\n",
       "<table border=\"1\" class=\"dataframe\">\n",
       "  <thead>\n",
       "    <tr style=\"text-align: right;\">\n",
       "      <th></th>\n",
       "      <th>CustomerID</th>\n",
       "      <th>First_Name</th>\n",
       "      <th>Last_Name</th>\n",
       "      <th>Phone_Number</th>\n",
       "      <th>Address</th>\n",
       "      <th>Paying Customer</th>\n",
       "      <th>Do_Not_Contact</th>\n",
       "      <th>Not_Useful_Column</th>\n",
       "    </tr>\n",
       "  </thead>\n",
       "  <tbody>\n",
       "    <tr>\n",
       "      <th>0</th>\n",
       "      <td>1001</td>\n",
       "      <td>Frodo</td>\n",
       "      <td>Baggins</td>\n",
       "      <td>123-545-5421</td>\n",
       "      <td>123 Shire Lane, Shire</td>\n",
       "      <td>Yes</td>\n",
       "      <td>No</td>\n",
       "      <td>True</td>\n",
       "    </tr>\n",
       "  </tbody>\n",
       "</table>\n",
       "</div>"
      ],
      "text/plain": [
       "   CustomerID First_Name Last_Name  Phone_Number                Address  \\\n",
       "0        1001      Frodo   Baggins  123-545-5421  123 Shire Lane, Shire   \n",
       "\n",
       "  Paying Customer Do_Not_Contact  Not_Useful_Column  \n",
       "0             Yes             No               True  "
      ]
     },
     "execution_count": 6,
     "metadata": {},
     "output_type": "execute_result"
    }
   ],
   "source": [
    "#drop duplicate Values\n",
    "dataset.drop_duplicates(inplace=True)\n",
    "dataset.head(1)\n"
   ]
  },
  {
   "cell_type": "code",
   "execution_count": 7,
   "id": "e6211990-df80-4a18-9731-b00c92e7ae8f",
   "metadata": {},
   "outputs": [
    {
     "data": {
      "text/html": [
       "<div>\n",
       "<style scoped>\n",
       "    .dataframe tbody tr th:only-of-type {\n",
       "        vertical-align: middle;\n",
       "    }\n",
       "\n",
       "    .dataframe tbody tr th {\n",
       "        vertical-align: top;\n",
       "    }\n",
       "\n",
       "    .dataframe thead th {\n",
       "        text-align: right;\n",
       "    }\n",
       "</style>\n",
       "<table border=\"1\" class=\"dataframe\">\n",
       "  <thead>\n",
       "    <tr style=\"text-align: right;\">\n",
       "      <th></th>\n",
       "      <th>CustomerID</th>\n",
       "      <th>First_Name</th>\n",
       "      <th>Last_Name</th>\n",
       "      <th>Phone_Number</th>\n",
       "      <th>Address</th>\n",
       "      <th>Paying Customer</th>\n",
       "      <th>Do_Not_Contact</th>\n",
       "    </tr>\n",
       "  </thead>\n",
       "  <tbody>\n",
       "    <tr>\n",
       "      <th>0</th>\n",
       "      <td>1001</td>\n",
       "      <td>Frodo</td>\n",
       "      <td>Baggins</td>\n",
       "      <td>123-545-5421</td>\n",
       "      <td>123 Shire Lane, Shire</td>\n",
       "      <td>Yes</td>\n",
       "      <td>No</td>\n",
       "    </tr>\n",
       "  </tbody>\n",
       "</table>\n",
       "</div>"
      ],
      "text/plain": [
       "   CustomerID First_Name Last_Name  Phone_Number                Address  \\\n",
       "0        1001      Frodo   Baggins  123-545-5421  123 Shire Lane, Shire   \n",
       "\n",
       "  Paying Customer Do_Not_Contact  \n",
       "0             Yes             No  "
      ]
     },
     "execution_count": 7,
     "metadata": {},
     "output_type": "execute_result"
    }
   ],
   "source": [
    "#drop unwanted column like \"not_useful_column\"\n",
    "dataset.drop(columns='Not_Useful_Column',inplace=True)\n",
    "dataset.head(1)"
   ]
  },
  {
   "cell_type": "code",
   "execution_count": 8,
   "id": "ebc204c1-3d3a-4e52-ae13-e66b677a15b4",
   "metadata": {},
   "outputs": [
    {
     "data": {
      "text/html": [
       "<div>\n",
       "<style scoped>\n",
       "    .dataframe tbody tr th:only-of-type {\n",
       "        vertical-align: middle;\n",
       "    }\n",
       "\n",
       "    .dataframe tbody tr th {\n",
       "        vertical-align: top;\n",
       "    }\n",
       "\n",
       "    .dataframe thead th {\n",
       "        text-align: right;\n",
       "    }\n",
       "</style>\n",
       "<table border=\"1\" class=\"dataframe\">\n",
       "  <thead>\n",
       "    <tr style=\"text-align: right;\">\n",
       "      <th></th>\n",
       "      <th>CustomerID</th>\n",
       "      <th>First_Name</th>\n",
       "      <th>Last_Name</th>\n",
       "      <th>Phone_Number</th>\n",
       "      <th>Address</th>\n",
       "      <th>Paying Customer</th>\n",
       "      <th>Do_Not_Contact</th>\n",
       "    </tr>\n",
       "  </thead>\n",
       "  <tbody>\n",
       "    <tr>\n",
       "      <th>0</th>\n",
       "      <td>1001</td>\n",
       "      <td>Frodo</td>\n",
       "      <td>Baggins</td>\n",
       "      <td>123-545-5421</td>\n",
       "      <td>123 Shire Lane, Shire</td>\n",
       "      <td>Yes</td>\n",
       "      <td>No</td>\n",
       "    </tr>\n",
       "  </tbody>\n",
       "</table>\n",
       "</div>"
      ],
      "text/plain": [
       "   CustomerID First_Name Last_Name  Phone_Number                Address  \\\n",
       "0        1001      Frodo   Baggins  123-545-5421  123 Shire Lane, Shire   \n",
       "\n",
       "  Paying Customer Do_Not_Contact  \n",
       "0             Yes             No  "
      ]
     },
     "execution_count": 8,
     "metadata": {},
     "output_type": "execute_result"
    }
   ],
   "source": [
    "#clean up Last_Name Column\n",
    "dataset['Last_Name']=dataset['Last_Name'].str.strip('123._/')\n",
    "dataset['Last_Name'] = dataset['Last_Name'].replace(np.nan, '')\n",
    "dataset.head(1)"
   ]
  },
  {
   "cell_type": "code",
   "execution_count": 13,
   "id": "f78c85f2-e42b-4e58-a964-c98b420d097f",
   "metadata": {},
   "outputs": [
    {
     "data": {
      "text/plain": [
       "0     123-545-5421\n",
       "1     123-643-9775\n",
       "2     706-695-0392\n",
       "3     123-543-2345\n",
       "4     876-678-3469\n",
       "5     304-762-2467\n",
       "6                 \n",
       "7     876-678-3469\n",
       "8                 \n",
       "9     123-545-5421\n",
       "10                \n",
       "11    706-695-0392\n",
       "12    123-543-2345\n",
       "13    876-678-3469\n",
       "14    304-762-2467\n",
       "15    123-545-5421\n",
       "16    123-643-9775\n",
       "17    706-695-0392\n",
       "18                \n",
       "19    876-678-3469\n",
       "20    876-678-3469\n",
       "Name: Phone_Number, dtype: object"
      ]
     },
     "execution_count": 13,
     "metadata": {},
     "output_type": "execute_result"
    }
   ],
   "source": [
    "#change float[Phone_Number] into String[Phone_Number] then clean up\n",
    "dataset['Phone_Number'].apply(lambda x:str(x))\n"
   ]
  },
  {
   "cell_type": "code",
   "execution_count": 12,
   "id": "32c749b2-8a61-4f73-9ab7-88176c0718c3",
   "metadata": {},
   "outputs": [
    {
     "name": "stdout",
     "output_type": "stream",
     "text": [
      "<class 'pandas.core.frame.DataFrame'>\n",
      "RangeIndex: 21 entries, 0 to 20\n",
      "Data columns (total 11 columns):\n",
      " #   Column             Non-Null Count  Dtype \n",
      "---  ------             --------------  ----- \n",
      " 0   CustomerID         21 non-null     int64 \n",
      " 1   First_Name         21 non-null     object\n",
      " 2   Last_Name          20 non-null     object\n",
      " 3   Phone_Number       21 non-null     object\n",
      " 4   Address            21 non-null     object\n",
      " 5   Paying Customer    21 non-null     object\n",
      " 6   Do_Not_Contact     17 non-null     object\n",
      " 7   Not_Useful_Column  21 non-null     bool  \n",
      " 8   Street             21 non-null     object\n",
      " 9   City               21 non-null     object\n",
      " 10  State              21 non-null     object\n",
      "dtypes: bool(1), int64(1), object(9)\n",
      "memory usage: 1.8+ KB\n"
     ]
    }
   ],
   "source": [
    "#clean up Phone_Number column\n",
    "\n",
    "dataset['Phone_Number'].astype('string')\n",
    "dataset.info()\n"
   ]
  },
  {
   "cell_type": "code",
   "execution_count": 9,
   "id": "903dd4d6-5432-44ba-a666-25e9bb531fce",
   "metadata": {},
   "outputs": [
    {
     "data": {
      "text/html": [
       "<div>\n",
       "<style scoped>\n",
       "    .dataframe tbody tr th:only-of-type {\n",
       "        vertical-align: middle;\n",
       "    }\n",
       "\n",
       "    .dataframe tbody tr th {\n",
       "        vertical-align: top;\n",
       "    }\n",
       "\n",
       "    .dataframe thead th {\n",
       "        text-align: right;\n",
       "    }\n",
       "</style>\n",
       "<table border=\"1\" class=\"dataframe\">\n",
       "  <thead>\n",
       "    <tr style=\"text-align: right;\">\n",
       "      <th></th>\n",
       "      <th>CustomerID</th>\n",
       "      <th>First_Name</th>\n",
       "      <th>Last_Name</th>\n",
       "      <th>Phone_Number</th>\n",
       "      <th>Address</th>\n",
       "      <th>Paying Customer</th>\n",
       "      <th>Do_Not_Contact</th>\n",
       "    </tr>\n",
       "  </thead>\n",
       "  <tbody>\n",
       "    <tr>\n",
       "      <th>0</th>\n",
       "      <td>1001</td>\n",
       "      <td>Frodo</td>\n",
       "      <td>Baggins</td>\n",
       "      <td>123-545-5421</td>\n",
       "      <td>123 Shire Lane, Shire</td>\n",
       "      <td>Yes</td>\n",
       "      <td>No</td>\n",
       "    </tr>\n",
       "  </tbody>\n",
       "</table>\n",
       "</div>"
      ],
      "text/plain": [
       "   CustomerID First_Name Last_Name  Phone_Number                Address  \\\n",
       "0        1001      Frodo   Baggins  123-545-5421  123 Shire Lane, Shire   \n",
       "\n",
       "  Paying Customer Do_Not_Contact  \n",
       "0             Yes             No  "
      ]
     },
     "execution_count": 9,
     "metadata": {},
     "output_type": "execute_result"
    }
   ],
   "source": [
    "def format_phone_number(phone):\n",
    "    if pd.isna(phone) or phone in ['nan', 'N/a',]:\n",
    "        return np.nan\n",
    "    # Removing non-numeric characters\n",
    "    phone = ''.join(filter(str.isdigit, phone))\n",
    "    if len(phone) == 10:\n",
    "        return f\"{phone[0:3]}-{phone[3:6]}-{phone[6:10]}\"\n",
    "    return np.nan\n",
    "\n",
    "# Applying the function to format the phone numbers\n",
    "dataset['Phone_Number'] = dataset['Phone_Number'].astype(str).apply(format_phone_number)\n",
    "dataset['Phone_Number'] = dataset['Phone_Number'].replace(np.nan, '')\n",
    "dataset.head(1)\n"
   ]
  },
  {
   "cell_type": "code",
   "execution_count": 39,
   "id": "4a359cf9-e554-4779-bbbb-4016cff30e77",
   "metadata": {},
   "outputs": [
    {
     "data": {
      "text/plain": [
       "0                     123 Shire Lane, Shire\n",
       "1                       93 West Main Street\n",
       "2                        298 Drugs Driveway\n",
       "3     980 Paper Avenue, Pennsylvania, 18503\n",
       "4                          123 Dragons Road\n",
       "5                          768 City Parkway\n",
       "6                         1209 South Street\n",
       "7                             98 Clue Drive\n",
       "8                          123 Middle Earth\n",
       "9                25th Main Street, New York\n",
       "10                    612 Shire Lane, Shire\n",
       "11                     2394 Hogwarts Avenue\n",
       "12                         2039 Main Street\n",
       "13                         343 City Parkway\n",
       "14                            214 HR Avenue\n",
       "15                     2395 Hogwarts Avenue\n",
       "16           121 Paper Avenue, Pennsylvania\n",
       "17                          3498 Super Lane\n",
       "18                                      N/a\n",
       "19              910 Tatooine Road, Tatooine\n",
       "Name: Address, dtype: object"
      ]
     },
     "execution_count": 39,
     "metadata": {},
     "output_type": "execute_result"
    }
   ],
   "source": [
    "dataset['Address']"
   ]
  },
  {
   "cell_type": "code",
   "execution_count": 10,
   "id": "2406adb0-2278-40af-b768-723abc1f6ea8",
   "metadata": {},
   "outputs": [
    {
     "data": {
      "text/html": [
       "<div>\n",
       "<style scoped>\n",
       "    .dataframe tbody tr th:only-of-type {\n",
       "        vertical-align: middle;\n",
       "    }\n",
       "\n",
       "    .dataframe tbody tr th {\n",
       "        vertical-align: top;\n",
       "    }\n",
       "\n",
       "    .dataframe thead th {\n",
       "        text-align: right;\n",
       "    }\n",
       "</style>\n",
       "<table border=\"1\" class=\"dataframe\">\n",
       "  <thead>\n",
       "    <tr style=\"text-align: right;\">\n",
       "      <th></th>\n",
       "      <th>CustomerID</th>\n",
       "      <th>First_Name</th>\n",
       "      <th>Last_Name</th>\n",
       "      <th>Phone_Number</th>\n",
       "      <th>Address</th>\n",
       "      <th>Paying Customer</th>\n",
       "      <th>Do_Not_Contact</th>\n",
       "      <th>Street</th>\n",
       "      <th>City</th>\n",
       "      <th>State</th>\n",
       "    </tr>\n",
       "  </thead>\n",
       "  <tbody>\n",
       "    <tr>\n",
       "      <th>0</th>\n",
       "      <td>1001</td>\n",
       "      <td>Frodo</td>\n",
       "      <td>Baggins</td>\n",
       "      <td>123-545-5421</td>\n",
       "      <td>123 Shire Lane, Shire</td>\n",
       "      <td>Yes</td>\n",
       "      <td>No</td>\n",
       "      <td>123 Shire Lane</td>\n",
       "      <td>Shire</td>\n",
       "      <td>None</td>\n",
       "    </tr>\n",
       "  </tbody>\n",
       "</table>\n",
       "</div>"
      ],
      "text/plain": [
       "   CustomerID First_Name Last_Name  Phone_Number                Address  \\\n",
       "0        1001      Frodo   Baggins  123-545-5421  123 Shire Lane, Shire   \n",
       "\n",
       "  Paying Customer Do_Not_Contact          Street    City State  \n",
       "0             Yes             No  123 Shire Lane   Shire  None  "
      ]
     },
     "execution_count": 10,
     "metadata": {},
     "output_type": "execute_result"
    }
   ],
   "source": [
    "#sort Address\n",
    "dataset[['Street', 'City', 'State']] = dataset['Address'].str.split(',', expand=True, n=2)\n",
    "dataset.head(1)"
   ]
  },
  {
   "cell_type": "code",
   "execution_count": 11,
   "id": "58241730-2cb7-43c8-b864-40067d6ec2cf",
   "metadata": {},
   "outputs": [
    {
     "data": {
      "text/html": [
       "<div>\n",
       "<style scoped>\n",
       "    .dataframe tbody tr th:only-of-type {\n",
       "        vertical-align: middle;\n",
       "    }\n",
       "\n",
       "    .dataframe tbody tr th {\n",
       "        vertical-align: top;\n",
       "    }\n",
       "\n",
       "    .dataframe thead th {\n",
       "        text-align: right;\n",
       "    }\n",
       "</style>\n",
       "<table border=\"1\" class=\"dataframe\">\n",
       "  <thead>\n",
       "    <tr style=\"text-align: right;\">\n",
       "      <th></th>\n",
       "      <th>CustomerID</th>\n",
       "      <th>First_Name</th>\n",
       "      <th>Last_Name</th>\n",
       "      <th>Phone_Number</th>\n",
       "      <th>Address</th>\n",
       "      <th>Paying Customer</th>\n",
       "      <th>Do_Not_Contact</th>\n",
       "      <th>Street</th>\n",
       "      <th>City</th>\n",
       "      <th>State</th>\n",
       "    </tr>\n",
       "  </thead>\n",
       "  <tbody>\n",
       "    <tr>\n",
       "      <th>0</th>\n",
       "      <td>1001</td>\n",
       "      <td>Frodo</td>\n",
       "      <td>Baggins</td>\n",
       "      <td>123-545-5421</td>\n",
       "      <td>123 Shire Lane, Shire</td>\n",
       "      <td>Yes</td>\n",
       "      <td>No</td>\n",
       "      <td>123 Shire Lane</td>\n",
       "      <td>Shire</td>\n",
       "      <td></td>\n",
       "    </tr>\n",
       "  </tbody>\n",
       "</table>\n",
       "</div>"
      ],
      "text/plain": [
       "   CustomerID First_Name Last_Name  Phone_Number                Address  \\\n",
       "0        1001      Frodo   Baggins  123-545-5421  123 Shire Lane, Shire   \n",
       "\n",
       "  Paying Customer Do_Not_Contact          Street    City State  \n",
       "0             Yes             No  123 Shire Lane   Shire        "
      ]
     },
     "execution_count": 11,
     "metadata": {},
     "output_type": "execute_result"
    }
   ],
   "source": [
    "dataset[['Street', 'City', 'State']] = dataset[['Street', 'City', 'State']].replace(np.nan, '')\n",
    "dataset.replace('N/a','')\n",
    "dataset.head(1)"
   ]
  },
  {
   "cell_type": "code",
   "execution_count": 12,
   "id": "6c6c1779-d2d2-4f00-92ad-05056d5b40d8",
   "metadata": {},
   "outputs": [
    {
     "data": {
      "text/html": [
       "<div>\n",
       "<style scoped>\n",
       "    .dataframe tbody tr th:only-of-type {\n",
       "        vertical-align: middle;\n",
       "    }\n",
       "\n",
       "    .dataframe tbody tr th {\n",
       "        vertical-align: top;\n",
       "    }\n",
       "\n",
       "    .dataframe thead th {\n",
       "        text-align: right;\n",
       "    }\n",
       "</style>\n",
       "<table border=\"1\" class=\"dataframe\">\n",
       "  <thead>\n",
       "    <tr style=\"text-align: right;\">\n",
       "      <th></th>\n",
       "      <th>CustomerID</th>\n",
       "      <th>First_Name</th>\n",
       "      <th>Last_Name</th>\n",
       "      <th>Phone_Number</th>\n",
       "      <th>Address</th>\n",
       "      <th>Paying Customer</th>\n",
       "      <th>Do_Not_Contact</th>\n",
       "      <th>Street</th>\n",
       "      <th>City</th>\n",
       "      <th>State</th>\n",
       "    </tr>\n",
       "  </thead>\n",
       "  <tbody>\n",
       "    <tr>\n",
       "      <th>0</th>\n",
       "      <td>1001</td>\n",
       "      <td>Frodo</td>\n",
       "      <td>Baggins</td>\n",
       "      <td>123-545-5421</td>\n",
       "      <td>123 Shire Lane, Shire</td>\n",
       "      <td>Yes</td>\n",
       "      <td>No</td>\n",
       "      <td>123 Shire Lane</td>\n",
       "      <td>Shire</td>\n",
       "      <td></td>\n",
       "    </tr>\n",
       "  </tbody>\n",
       "</table>\n",
       "</div>"
      ],
      "text/plain": [
       "   CustomerID First_Name Last_Name  Phone_Number                Address  \\\n",
       "0        1001      Frodo   Baggins  123-545-5421  123 Shire Lane, Shire   \n",
       "\n",
       "  Paying Customer Do_Not_Contact          Street    City State  \n",
       "0             Yes             No  123 Shire Lane   Shire        "
      ]
     },
     "execution_count": 12,
     "metadata": {},
     "output_type": "execute_result"
    }
   ],
   "source": [
    "#values replace and set in standard form\n",
    "dataset[\"Paying Customer\"] = dataset[\"Paying Customer\"].replace({\n",
    "    'Y': 'Yes',\n",
    "    'N': 'No',\n",
    "    'N/a': '' ,\n",
    "}).fillna(' ')\n",
    "dataset[\"Do_Not_Contact\"] = dataset[\"Do_Not_Contact\"].replace({\n",
    "    'Y': 'Yes',\n",
    "    'N': 'No',\n",
    "    'N/a': '' ,\n",
    "}).fillna(' ')\n",
    "dataset.head(1)"
   ]
  },
  {
   "cell_type": "code",
   "execution_count": null,
   "id": "bee896af-2594-4c7c-b3ef-6560a529f50d",
   "metadata": {},
   "outputs": [],
   "source": []
  }
 ],
 "metadata": {
  "kernelspec": {
   "display_name": "Python 3 (ipykernel)",
   "language": "python",
   "name": "python3"
  },
  "language_info": {
   "codemirror_mode": {
    "name": "ipython",
    "version": 3
   },
   "file_extension": ".py",
   "mimetype": "text/x-python",
   "name": "python",
   "nbconvert_exporter": "python",
   "pygments_lexer": "ipython3",
   "version": "3.12.4"
  }
 },
 "nbformat": 4,
 "nbformat_minor": 5
}
